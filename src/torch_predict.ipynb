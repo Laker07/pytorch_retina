{
 "cells": [
  {
   "cell_type": "code",
   "execution_count": 1,
   "metadata": {},
   "outputs": [],
   "source": [
    "import pandas as pd\n",
    "import numpy as np\n",
    "import matplotlib.pyplot as plt\n",
    "%matplotlib inline\n",
    "\n",
    "import os\n",
    "import sys\n",
    "import random\n",
    "\n",
    "from skimage.io import imread, imshow\n",
    "from skimage.transform import resize\n",
    "from skimage import feature\n",
    "\n",
    "from skimage.filters import sobel\n",
    "from skimage.morphology import watershed\n",
    "\n",
    "import torch\n",
    "import torch.nn as nn\n",
    "import torch.nn.functional as F\n",
    "import torchvision.datasets as dsets\n",
    "from torch.autograd import Variable\n",
    "\n",
    "from torchvision import transforms as tf\n",
    "\n",
    "import h5py\n",
    "\n",
    "from pathlib import Path\n",
    "import nibabel as nib\n",
    "from sklearn import preprocessing\n",
    "from skimage import transform\n",
    "\n",
    "# from tqdm import tqdm\n",
    "\n",
    "# from imgaug import augmenters as iaaot as plt\n",
    "import pandas as pd"
   ]
  },
  {
   "cell_type": "code",
   "execution_count": 2,
   "metadata": {},
   "outputs": [],
   "source": [
    "import sys\n",
    "sys.path.insert(0, '../networks/')\n",
    "from Att_Net import Att_Net\n",
    "sys.path.insert(0, '../lib/')\n",
    "# help_functions.py\n",
    "from help_functions import * "
   ]
  },
  {
   "cell_type": "code",
   "execution_count": 3,
   "metadata": {},
   "outputs": [],
   "source": [
    "class eye_dataset(torch.utils.data.Dataset):\n",
    "\n",
    "    def __init__(self,preprocessed_images, train=True, label=None):\n",
    "        \"\"\"\n",
    "        Args:\n",
    "            text_file(string): path to text file\n",
    "            root_dir(string): directory with all train images\n",
    "        \"\"\"\n",
    "        self.train = train\n",
    "        self.images = preprocessed_images\n",
    "        if self.train:\n",
    "            self.label = label\n",
    "\n",
    "    def __len__(self):\n",
    "        return len(self.images)\n",
    "\n",
    "    def __getitem__(self, idx):\n",
    "        image = self.images[idx]\n",
    "        img = np.zeros_like(image, dtype=np.float32)\n",
    "        \n",
    "        img += image\n",
    "        label = None\n",
    "        if self.train:\n",
    "            label = self.label[idx]\n",
    "#             msk = np.zeros((2,48,48), dtype=np.long)\n",
    "#             msk[1] = label\n",
    "#             msk[0] = 1-label\n",
    "            \n",
    "#             msk += label\n",
    "            return (img, label)\n",
    "        return img"
   ]
  },
  {
   "cell_type": "code",
   "execution_count": 4,
   "metadata": {},
   "outputs": [],
   "source": [
    "from sklearn.metrics import roc_curve\n",
    "from sklearn.metrics import roc_auc_score\n",
    "from sklearn.metrics import confusion_matrix\n",
    "from sklearn.metrics import precision_recall_curve\n",
    "from sklearn.metrics import jaccard_similarity_score\n",
    "from sklearn.metrics import f1_score\n",
    "\n",
    "from extract_patches import recompone\n",
    "from extract_patches import recompone_overlap\n",
    "from extract_patches import paint_border\n",
    "from extract_patches import kill_border\n",
    "from extract_patches import pred_only_FOV\n",
    "from extract_patches import get_data_testing\n",
    "from extract_patches import get_data_testing_overlap\n",
    "# pre_processing.py\n",
    "from pre_processing import my_PreProc\n",
    "# from pixel_dcn import pixel_dcl\n"
   ]
  },
  {
   "cell_type": "code",
   "execution_count": 5,
   "metadata": {},
   "outputs": [],
   "source": [
    "# [data paths]\n",
    "path_local =  '../DRIVE_datasets_training_testing/'\n",
    "train_imgs_original = 'DRIVE_dataset_imgs_train.hdf5'\n",
    "train_groundTruth = 'DRIVE_dataset_groundTruth_train.hdf5'\n",
    "train_border_masks = 'DRIVE_dataset_borderMasks_train.hdf5'\n",
    "test_imgs_original = 'DRIVE_dataset_imgs_test.hdf5'\n",
    "test_groundTruth = 'DRIVE_dataset_groundTruth_test.hdf5'\n",
    "test_border_masks = 'DRIVE_dataset_borderMasks_test.hdf5'\n",
    "\n",
    "\n",
    "\n",
    "#========= CONFIG FILE TO READ FROM =======\n",
    "# config = configparser.RawConfigParser()\n",
    "# config.read('../configuration.txt')\n",
    "# #===========================================\n",
    "# #run the training on invariant or local\n",
    "# path_data = config.get('data paths', 'path_local')\n",
    "\n",
    "#original test images (for FOV selection)\n",
    "DRIVE_test_imgs_original = path_local + test_imgs_original\n",
    "\n",
    "test_imgs_orig = load_hdf5(DRIVE_test_imgs_original)\n",
    "full_img_height = test_imgs_orig.shape[2]\n",
    "full_img_width = test_imgs_orig.shape[3]\n",
    "#the border masks provided by the DRIVE\n",
    "DRIVE_test_border_masks = path_local + test_border_masks\n",
    "test_border_masks = load_hdf5(DRIVE_test_border_masks)\n",
    "# dimension of the patches\n",
    "patch_height = 48\n",
    "patch_width = 48\n",
    "#the stride in case output with average\n",
    "stride_height = 5\n",
    "stride_width = 5\n",
    "assert (stride_height < patch_height and stride_width < patch_width)\n",
    "#model name\n",
    "name_experiment = 'test'\n",
    "path_experiment = '../' +name_experiment +'/'\n",
    "#N full images to be predicted\n",
    "Imgs_to_test = 20\n",
    "#Grouping of the predicted images\n",
    "N_visual = 1\n",
    "#====== average mode ===========\n",
    "average_mode = True"
   ]
  },
  {
   "cell_type": "code",
   "execution_count": 6,
   "metadata": {},
   "outputs": [
    {
     "name": "stdout",
     "output_type": "stream",
     "text": [
      "\n",
      "the side H is not compatible with the selected stride of 5\n",
      "img_h 584, patch_h 48, stride_h 5\n",
      "(img_h - patch_h) MOD stride_h: 1\n",
      "So the H dim will be padded with additional 4 pixels\n",
      "the side W is not compatible with the selected stride of 5\n",
      "img_w 565, patch_w 48, stride_w 5\n",
      "(img_w - patch_w) MOD stride_w: 2\n",
      "So the W dim will be padded with additional 3 pixels\n",
      "new full images shape: \n",
      "(20, 1, 588, 568)\n",
      "\n",
      "test images shape:\n",
      "(20, 1, 588, 568)\n",
      "\n",
      "test mask shape:\n",
      "(20, 1, 584, 565)\n",
      "test images range (min-max): 0.0 - 1.0\n",
      "test masks are within 0-1\n",
      "\n",
      "Number of patches on h : 109\n",
      "Number of patches on w : 105\n",
      "number of patches per image: 11445, totally for this dataset: 228900\n",
      "\n",
      "test PATCHES images shape:\n",
      "(228900, 1, 48, 48)\n",
      "test PATCHES images range (min-max): 0.0 - 1.0\n"
     ]
    }
   ],
   "source": [
    "patches_imgs_test = None\n",
    "new_height = None\n",
    "new_width = None\n",
    "masks_test  = None\n",
    "patches_masks_test = None\n",
    "if average_mode == True:\n",
    "    patches_imgs_test, new_height, new_width, masks_test = get_data_testing_overlap(\n",
    "        DRIVE_test_imgs_original = DRIVE_test_imgs_original,  #original\n",
    "        DRIVE_test_groudTruth = path_local + test_groundTruth, #masks\n",
    "        Imgs_to_test = Imgs_to_test,\n",
    "        patch_height = patch_height,\n",
    "        patch_width = patch_width,\n",
    "        stride_height = stride_height,\n",
    "        stride_width = stride_width\n",
    "    )\n",
    "    #masks_test = np.rollaxis(masks_test, 1, 2)\n",
    "else:\n",
    "    patches_imgs_test, patches_masks_test = get_data_testing(\n",
    "        DRIVE_test_imgs_original = DRIVE_test_imgs_original,  #original\n",
    "        DRIVE_test_groudTruth = path_local +test_groundTruth,  #masks\n",
    "        Imgs_to_test = Imgs_to_test,\n",
    "        patch_height = patch_height,\n",
    "        patch_width = patch_width,\n",
    "    )"
   ]
  },
  {
   "cell_type": "code",
   "execution_count": 7,
   "metadata": {},
   "outputs": [
    {
     "data": {
      "text/plain": [
       "(228900, 1, 48, 48)"
      ]
     },
     "execution_count": 7,
     "metadata": {},
     "output_type": "execute_result"
    }
   ],
   "source": [
    "patches_imgs_test.shape"
   ]
  },
  {
   "cell_type": "code",
   "execution_count": 8,
   "metadata": {},
   "outputs": [],
   "source": [
    "eye_dataset_test = eye_dataset(patches_imgs_test, \n",
    "                                      train=False, \n",
    "                                      label=None)\n",
    "\n",
    "\n",
    "batch_size = 64\n",
    "\n",
    "test_loader = torch.utils.data.DataLoader(dataset=eye_dataset_test, \n",
    "                                           batch_size=batch_size, \n",
    "                                           shuffle=False)\n",
    "\n"
   ]
  },
  {
   "cell_type": "code",
   "execution_count": 9,
   "metadata": {},
   "outputs": [
    {
     "data": {
      "text/plain": [
       "Att_Net(\n",
       "  (input_conv1): Conv2d(1, 32, kernel_size=(3, 3), stride=(1, 1), padding=(1, 1))\n",
       "  (block1): Sequential(\n",
       "    (0): BatchNorm2d(32, eps=1e-05, momentum=0.997, affine=True, track_running_stats=True)\n",
       "    (1): ReLU6(inplace)\n",
       "    (2): Conv2d(32, 32, kernel_size=(3, 3), stride=(1, 1), padding=(1, 1))\n",
       "    (3): BatchNorm2d(32, eps=1e-05, momentum=0.997, affine=True, track_running_stats=True)\n",
       "    (4): ReLU6(inplace)\n",
       "    (5): Conv2d(32, 32, kernel_size=(3, 3), stride=(1, 1), padding=(1, 1))\n",
       "  )\n",
       "  (block2): Sequential(\n",
       "    (0): BatchNorm2d(32, eps=1e-05, momentum=0.997, affine=True, track_running_stats=True)\n",
       "    (1): ReLU6(inplace)\n",
       "    (2): Conv2d(32, 64, kernel_size=(3, 3), stride=(2, 2), padding=(1, 1))\n",
       "    (3): BatchNorm2d(64, eps=1e-05, momentum=0.997, affine=True, track_running_stats=True)\n",
       "    (4): ReLU6(inplace)\n",
       "    (5): Conv2d(64, 64, kernel_size=(3, 3), stride=(1, 1), padding=(1, 1))\n",
       "  )\n",
       "  (block2_res): Conv2d(32, 64, kernel_size=(1, 1), stride=(2, 2))\n",
       "  (block3): Sequential(\n",
       "    (0): BatchNorm2d(64, eps=1e-05, momentum=0.997, affine=True, track_running_stats=True)\n",
       "    (1): ReLU6(inplace)\n",
       "    (2): Conv2d(64, 128, kernel_size=(3, 3), stride=(2, 2), padding=(1, 1))\n",
       "    (3): BatchNorm2d(128, eps=1e-05, momentum=0.997, affine=True, track_running_stats=True)\n",
       "    (4): ReLU6(inplace)\n",
       "    (5): Conv2d(128, 128, kernel_size=(3, 3), stride=(1, 1), padding=(1, 1))\n",
       "  )\n",
       "  (block3_res): Conv2d(64, 128, kernel_size=(1, 1), stride=(2, 2))\n",
       "  (mid): MultiHeadAttention(\n",
       "    (q): Conv2d(128, 32, kernel_size=(1, 1), stride=(1, 1))\n",
       "    (k): Conv2d(128, 32, kernel_size=(1, 1), stride=(1, 1))\n",
       "    (v): Conv2d(128, 32, kernel_size=(1, 1), stride=(1, 1))\n",
       "    (conv): Conv2d(32, 128, kernel_size=(1, 1), stride=(1, 1))\n",
       "  )\n",
       "  (bn): BatchNorm2d(128, eps=1e-05, momentum=0.997, affine=True, track_running_stats=True)\n",
       "  (up2): ConvTranspose2d(128, 64, kernel_size=(3, 3), stride=(2, 2), padding=(1, 1), output_padding=(1, 1))\n",
       "  (up2_1): Sequential(\n",
       "    (0): BatchNorm2d(64, eps=1e-05, momentum=0.997, affine=True, track_running_stats=True)\n",
       "    (1): ReLU6(inplace)\n",
       "    (2): Conv2d(64, 64, kernel_size=(3, 3), stride=(1, 1), padding=(1, 1))\n",
       "    (3): BatchNorm2d(64, eps=1e-05, momentum=0.997, affine=True, track_running_stats=True)\n",
       "    (4): ReLU6(inplace)\n",
       "    (5): Conv2d(64, 64, kernel_size=(3, 3), stride=(1, 1), padding=(1, 1))\n",
       "  )\n",
       "  (up1): ConvTranspose2d(64, 32, kernel_size=(3, 3), stride=(2, 2), padding=(1, 1), output_padding=(1, 1))\n",
       "  (up1_1): Sequential(\n",
       "    (0): BatchNorm2d(32, eps=1e-05, momentum=0.997, affine=True, track_running_stats=True)\n",
       "    (1): ReLU6(inplace)\n",
       "    (2): Conv2d(32, 32, kernel_size=(3, 3), stride=(1, 1), padding=(1, 1))\n",
       "    (3): BatchNorm2d(32, eps=1e-05, momentum=0.997, affine=True, track_running_stats=True)\n",
       "    (4): ReLU6(inplace)\n",
       "    (5): Conv2d(32, 32, kernel_size=(3, 3), stride=(1, 1), padding=(1, 1))\n",
       "  )\n",
       "  (drop): Dropout2d(p=0.5)\n",
       "  (out): Sequential(\n",
       "    (0): BatchNorm2d(32, eps=1e-05, momentum=0.997, affine=True, track_running_stats=True)\n",
       "    (1): ReLU6(inplace)\n",
       "    (2): Conv2d(32, 32, kernel_size=(3, 3), stride=(1, 1), padding=(1, 1))\n",
       "    (3): BatchNorm2d(32, eps=1e-05, momentum=0.997, affine=True, track_running_stats=True)\n",
       "    (4): ReLU6(inplace)\n",
       "    (5): Conv2d(32, 32, kernel_size=(3, 3), stride=(1, 1), padding=(1, 1))\n",
       "  )\n",
       "  (out_): Conv2d(32, 2, kernel_size=(3, 3), stride=(1, 1), padding=(1, 1))\n",
       ")"
      ]
     },
     "execution_count": 9,
     "metadata": {},
     "output_type": "execute_result"
    }
   ],
   "source": [
    "model = Att_Net(32)\n",
    "model.cuda()\n",
    "state_dict = torch.load('expr/att_bott/att_res_torch_190k.pth')\n",
    "model.load_state_dict(state_dict)\n",
    "model.eval()"
   ]
  },
  {
   "cell_type": "code",
   "execution_count": 10,
   "metadata": {},
   "outputs": [
    {
     "data": {
      "text/plain": [
       "(228900, 2, 2304)"
      ]
     },
     "execution_count": 10,
     "metadata": {},
     "output_type": "execute_result"
    }
   ],
   "source": [
    "pred_images = np.zeros((len(patches_imgs_test),2,2304)) \n",
    "# pred_images=patches_imgs_test\n",
    "pred_images.shape"
   ]
  },
  {
   "cell_type": "code",
   "execution_count": 11,
   "metadata": {},
   "outputs": [
    {
     "name": "stderr",
     "output_type": "stream",
     "text": [
      "../networks/attention.py:249: UserWarning: Implicit dimension choice for softmax has been deprecated. Change the call to include dim=X as an argument.\n",
      "  weights = F.softmax(logits)\n"
     ]
    }
   ],
   "source": [
    "count =0\n",
    "for image in test_loader:\n",
    "    image = Variable(image.cuda())\n",
    "    outputs = model(image)\n",
    "#     print(outputs.shape)\n",
    "#     print(outputs)\n",
    "    for i in range(outputs.shape[0]):\n",
    "        pred_images[count,:,:] =torch.exp(outputs)[i].data.cpu().numpy()\n",
    "        count +=1"
   ]
  },
  {
   "cell_type": "code",
   "execution_count": 12,
   "metadata": {},
   "outputs": [
    {
     "data": {
      "text/plain": [
       "(228900, 2, 2304)"
      ]
     },
     "execution_count": 12,
     "metadata": {},
     "output_type": "execute_result"
    }
   ],
   "source": [
    "pred_images.shape"
   ]
  },
  {
   "cell_type": "code",
   "execution_count": 13,
   "metadata": {},
   "outputs": [],
   "source": [
    "pred_patches = pred_to_imgs(pred_images, patch_height)"
   ]
  },
  {
   "cell_type": "code",
   "execution_count": 14,
   "metadata": {},
   "outputs": [
    {
     "data": {
      "text/plain": [
       "(228900, 1, 48, 48)"
      ]
     },
     "execution_count": 14,
     "metadata": {},
     "output_type": "execute_result"
    }
   ],
   "source": [
    "pred_patches.shape"
   ]
  },
  {
   "cell_type": "code",
   "execution_count": 15,
   "metadata": {},
   "outputs": [
    {
     "data": {
      "text/plain": [
       "array([[1.70152355e-03, 1.35146256e-04, 3.83871957e-05, ...,\n",
       "        3.00711632e-04, 8.90824478e-04, 6.82087708e-03],\n",
       "       [1.51568966e-04, 9.79543438e-06, 1.96021551e-06, ...,\n",
       "        4.11926048e-05, 2.09312027e-04, 2.01018224e-03],\n",
       "       [5.97159051e-05, 3.54802296e-06, 7.14008820e-07, ...,\n",
       "        2.43833583e-05, 1.62922064e-04, 1.73951511e-03],\n",
       "       ...,\n",
       "       [5.41549563e-01, 6.15244865e-01, 6.92988992e-01, ...,\n",
       "        9.11253750e-01, 8.82322371e-01, 7.55559564e-01],\n",
       "       [6.26950502e-01, 7.35328078e-01, 7.90201128e-01, ...,\n",
       "        7.83246934e-01, 7.99826086e-01, 7.18977034e-01],\n",
       "       [5.33754468e-01, 6.26544237e-01, 6.65089130e-01, ...,\n",
       "        4.12350595e-01, 4.62204099e-01, 4.96052086e-01]])"
      ]
     },
     "execution_count": 15,
     "metadata": {},
     "output_type": "execute_result"
    }
   ],
   "source": [
    "pred_patches[0][0]"
   ]
  },
  {
   "cell_type": "code",
   "execution_count": 16,
   "metadata": {},
   "outputs": [],
   "source": [
    "def image_gray(img, sz=10, color='gray'):\n",
    "    plt.figure()\n",
    "    plt.subplots(figsize=(sz,sz))\n",
    "    plt.imshow(img, cmap=color)\n",
    "    plt.show()"
   ]
  },
  {
   "cell_type": "code",
   "execution_count": 17,
   "metadata": {},
   "outputs": [
    {
     "data": {
      "text/plain": [
       "<Figure size 432x288 with 0 Axes>"
      ]
     },
     "metadata": {},
     "output_type": "display_data"
    },
    {
     "data": {
      "image/png": "[encoded data removed]",
      "text/plain": [
       "<Figure size 216x216 with 1 Axes>"
      ]
     },
     "metadata": {
      "needs_background": "light"
     },
     "output_type": "display_data"
    }
   ],
   "source": [
    "image_gray(pred_patches[5000][0],3)"
   ]
  },
  {
   "cell_type": "code",
   "execution_count": 18,
   "metadata": {},
   "outputs": [
    {
     "data": {
      "text/plain": [
       "<Figure size 432x288 with 0 Axes>"
      ]
     },
     "metadata": {},
     "output_type": "display_data"
    },
    {
     "data": {
      "image/png": "[encoded data removed]",
      "text/plain": [
       "<Figure size 216x216 with 1 Axes>"
      ]
     },
     "metadata": {
      "needs_background": "light"
     },
     "output_type": "display_data"
    }
   ],
   "source": [
    "image_gray(pred_patches[5000][0],3)"
   ]
  },
  {
   "cell_type": "code",
   "execution_count": 19,
   "metadata": {},
   "outputs": [
    {
     "name": "stdout",
     "output_type": "stream",
     "text": [
      "N_patches_h: 109\n",
      "N_patches_w: 105\n",
      "N_patches_img: 11445\n",
      "According to the dimension inserted, there are 20 full images (of 588x568 each)\n",
      "(20, 1, 588, 568)\n",
      "Orig imgs shape: (20, 1, 584, 565)\n",
      "pred imgs shape: (20, 1, 584, 565)\n",
      "Gtruth imgs shape: (20, 1, 584, 565)\n",
      "\n",
      "\n",
      "========  Evaluate the results =======================\n",
      "Calculating results only inside the FOV:\n",
      "y scores pixels: 4538143 (radius 270: 270*270*3.14==228906), including background around retina: 6599200 (584*565==329960)\n",
      "y true pixels: 4538143 (radius 270: 270*270*3.14==228906), including background around retina: 6599200 (584*565==329960)\n",
      "\n",
      "Area under the ROC curve: 0.9704924980819212\n",
      "\n",
      "Area under Precision-Recall curve: 0.8812560873235532\n",
      "\n",
      "Confusion matrix:  Custom threshold (for positive) of 0.5\n",
      "[[3843903  116591]\n",
      " [ 120438  457211]]\n",
      "Global Accuracy: 0.9477696053209429\n",
      "Specificity: 0.9705615006612811\n",
      "Sensitivity: 0.7915031446432003\n",
      "Precision: 0.7968097009072816\n",
      "\n",
      "Jaccard similarity score: 0.9477696053209429\n",
      "\n",
      "F1 score (F-measure): 0.7941475581679116\n"
     ]
    },
    {
     "data": {
      "image/png": "[encoded data removed]",
      "text/plain": [
       "<Figure size 432x288 with 1 Axes>"
      ]
     },
     "metadata": {
      "needs_background": "light"
     },
     "output_type": "display_data"
    }
   ],
   "source": [
    "pred_imgs = None\n",
    "orig_imgs = None\n",
    "gtruth_masks = None\n",
    "if average_mode == True:\n",
    "    pred_imgs = recompone_overlap(pred_patches, new_height, new_width, stride_height, stride_width)# predictions\n",
    "    orig_imgs = my_PreProc(test_imgs_orig[0:pred_imgs.shape[0],:,:,:])    #originals\n",
    "    gtruth_masks = masks_test  #ground truth masks\n",
    "else:\n",
    "    pred_imgs = recompone(pred_patches,13,12)       # predictions\n",
    "    orig_imgs = recompone(patches_imgs_test,13,12)  # originals\n",
    "    gtruth_masks = recompone(patches_masks_test,13,12)  #masks\n",
    "# apply the DRIVE masks on the repdictions #set everything outside the FOV to zero!!\n",
    "kill_border(pred_imgs, test_border_masks)  #DRIVE MASK  #only for visualization\n",
    "## back to original dimensions\n",
    "orig_imgs = orig_imgs[:,:,0:full_img_height,0:full_img_width]\n",
    "pred_imgs = pred_imgs[:,:,0:full_img_height,0:full_img_width]\n",
    "gtruth_masks = gtruth_masks[:,:,0:full_img_height,0:full_img_width]\n",
    "print(\"Orig imgs shape: \" +str(orig_imgs.shape))\n",
    "print(\"pred imgs shape: \" +str(pred_imgs.shape))\n",
    "print(\"Gtruth imgs shape: \" +str(gtruth_masks.shape))\n",
    "visualize(group_images(orig_imgs,N_visual),path_experiment+\"all_originals\")#.show()\n",
    "visualize(group_images(pred_imgs,N_visual),path_experiment+\"all_predictions\")#.show()\n",
    "visualize(group_images(gtruth_masks,N_visual),path_experiment+\"all_groundTruths\")#.show()\n",
    "#visualize results comparing mask and prediction:\n",
    "assert (orig_imgs.shape[0]==pred_imgs.shape[0] and orig_imgs.shape[0]==gtruth_masks.shape[0])\n",
    "N_predicted = orig_imgs.shape[0]\n",
    "group = N_visual\n",
    "assert (N_predicted%group==0)\n",
    "for i in range(int(N_predicted/group)):\n",
    "    orig_stripe = group_images(orig_imgs[i*group:(i*group)+group,:,:,:],group)\n",
    "    masks_stripe = group_images(gtruth_masks[i*group:(i*group)+group,:,:,:],group)\n",
    "    pred_stripe = group_images(pred_imgs[i*group:(i*group)+group,:,:,:],group)\n",
    "    total_img = np.concatenate((orig_stripe,masks_stripe,pred_stripe),axis=0)\n",
    "    visualize(total_img,path_experiment+name_experiment +\"_Original_GroundTruth_Prediction\"+str(i))#.show()\n",
    "\n",
    "\n",
    "#====== Evaluate the results\n",
    "print(\"\\n\\n========  Evaluate the results =======================\")\n",
    "#predictions only inside the FOV\n",
    "y_scores, y_true = pred_only_FOV(pred_imgs,gtruth_masks, test_border_masks)  #returns data only inside the FOV\n",
    "print(\"Calculating results only inside the FOV:\")\n",
    "print(\"y scores pixels: \" +str(y_scores.shape[0]) +\" (radius 270: 270*270*3.14==228906), including background around retina: \" +str(pred_imgs.shape[0]*pred_imgs.shape[2]*pred_imgs.shape[3]) +\" (584*565==329960)\")\n",
    "print(\"y true pixels: \" +str(y_true.shape[0]) +\" (radius 270: 270*270*3.14==228906), including background around retina: \" +str(gtruth_masks.shape[2]*gtruth_masks.shape[3]*gtruth_masks.shape[0])+\" (584*565==329960)\")\n",
    "\n",
    "#Area under the ROC curve\n",
    "AUC_ROC = roc_auc_score(y_true, y_scores)\n",
    "# fpr, tpr, thresholds = roc_curve((y_true), y_scores)\n",
    "\n",
    "# test_integral = np.trapz(tpr,fpr) #trapz is numpy integration\n",
    "print(\"\\nArea under the ROC curve: \" +str(AUC_ROC))\n",
    "# roc_curve =plt.figure()\n",
    "# plt.plot(fpr,tpr,'-',label='Area Under the Curve (AUC = %0.4f)' % AUC_ROC)\n",
    "# plt.title('ROC curve')\n",
    "# plt.xlabel(\"FPR (False Positive Rate)\")\n",
    "# plt.ylabel(\"TPR (True Positive Rate)\")\n",
    "# plt.legend(loc=\"lower right\")\n",
    "# plt.savefig(path_experiment+\"ROC.png\")\n",
    "\n",
    "#Precision-recall curve\n",
    "precision, recall, thresholds = precision_recall_curve(y_true, y_scores)\n",
    "precision = np.fliplr([precision])[0]  #so the array is increasing (you won't get negative AUC)\n",
    "recall = np.fliplr([recall])[0]  #so the array is increasing (you won't get negative AUC)\n",
    "AUC_prec_rec = np.trapz(precision,recall)\n",
    "print(\"\\nArea under Precision-Recall curve: \" +str(AUC_prec_rec))\n",
    "prec_rec_curve = plt.figure()\n",
    "plt.plot(recall,precision,'-',label='Area Under the Curve (AUC = %0.4f)' % AUC_prec_rec)\n",
    "plt.title('Precision - Recall curve')\n",
    "plt.xlabel(\"Recall\")\n",
    "plt.ylabel(\"Precision\")\n",
    "plt.legend(loc=\"lower right\")\n",
    "plt.savefig(path_experiment+\"Precision_recall.png\")\n",
    "\n",
    "#Confusion matrix\n",
    "threshold_confusion = 0.5\n",
    "print(\"\\nConfusion matrix:  Custom threshold (for positive) of \" +str(threshold_confusion))\n",
    "y_pred = np.empty((y_scores.shape[0]))\n",
    "for i in range(y_scores.shape[0]):\n",
    "    if y_scores[i]>=threshold_confusion:\n",
    "        y_pred[i]=1\n",
    "    else:\n",
    "        y_pred[i]=0\n",
    "confusion = confusion_matrix(y_true, y_pred)\n",
    "print(confusion)\n",
    "accuracy = 0\n",
    "if float(np.sum(confusion))!=0:\n",
    "    accuracy = float(confusion[0,0]+confusion[1,1])/float(np.sum(confusion))\n",
    "print(\"Global Accuracy: \" +str(accuracy))\n",
    "specificity = 0\n",
    "if float(confusion[0,0]+confusion[0,1])!=0:\n",
    "    specificity = float(confusion[0,0])/float(confusion[0,0]+confusion[0,1])\n",
    "print(\"Specificity: \" +str(specificity))\n",
    "sensitivity = 0\n",
    "if float(confusion[1,1]+confusion[1,0])!=0:\n",
    "    sensitivity = float(confusion[1,1])/float(confusion[1,1]+confusion[1,0])\n",
    "print(\"Sensitivity: \" +str(sensitivity))\n",
    "precision = 0\n",
    "if float(confusion[1,1]+confusion[0,1])!=0:\n",
    "    precision = float(confusion[1,1])/float(confusion[1,1]+confusion[0,1])\n",
    "print(\"Precision: \" +str(precision))\n",
    "\n",
    "#Jaccard similarity index\n",
    "jaccard_index = jaccard_similarity_score(y_true, y_pred, normalize=True)\n",
    "print(\"\\nJaccard similarity score: \" +str(jaccard_index))\n",
    "\n",
    "#F1 score\n",
    "F1_score = f1_score(y_true, y_pred, labels=None, average='binary', sample_weight=None)\n",
    "print(\"\\nF1 score (F-measure): \" +str(F1_score))\n",
    "\n",
    "#Save the results\n",
    "file_perf = open(path_experiment+'performances.txt', 'w')\n",
    "file_perf.write(\"Area under the ROC curve: \"+str(AUC_ROC)\n",
    "                + \"\\nArea under Precision-Recall curve: \" +str(AUC_prec_rec)\n",
    "                + \"\\nJaccard similarity score: \" +str(jaccard_index)\n",
    "                + \"\\nF1 score (F-measure): \" +str(F1_score)\n",
    "                +\"\\n\\nConfusion matrix:\"\n",
    "                +str(confusion)\n",
    "                +\"\\nACCURACY: \" +str(accuracy)\n",
    "                +\"\\nSENSITIVITY: \" +str(sensitivity)\n",
    "                +\"\\nSPECIFICITY: \" +str(specificity)\n",
    "                +\"\\nPRECISION: \" +str(precision)\n",
    "                )\n",
    "file_perf.close()"
   ]
  },
  {
   "cell_type": "code",
   "execution_count": null,
   "metadata": {},
   "outputs": [],
   "source": [
    "nn.BatchNorm2d()"
   ]
  },
  {
   "cell_type": "code",
   "execution_count": null,
   "metadata": {},
   "outputs": [],
   "source": [
    "nn.Dropout2d()"
   ]
  },
  {
   "cell_type": "code",
   "execution_count": null,
   "metadata": {},
   "outputs": [],
   "source": []
  },
  {
   "cell_type": "code",
   "execution_count": null,
   "metadata": {},
   "outputs": [],
   "source": []
  },
  {
   "cell_type": "code",
   "execution_count": null,
   "metadata": {},
   "outputs": [],
   "source": []
  },
  {
   "cell_type": "code",
   "execution_count": null,
   "metadata": {},
   "outputs": [],
   "source": []
  },
  {
   "cell_type": "code",
   "execution_count": null,
   "metadata": {},
   "outputs": [],
   "source": []
  },
  {
   "cell_type": "code",
   "execution_count": null,
   "metadata": {},
   "outputs": [],
   "source": []
  },
  {
   "cell_type": "code",
   "execution_count": null,
   "metadata": {},
   "outputs": [],
   "source": []
  },
  {
   "cell_type": "code",
   "execution_count": null,
   "metadata": {},
   "outputs": [],
   "source": []
  },
  {
   "cell_type": "code",
   "execution_count": null,
   "metadata": {},
   "outputs": [],
   "source": []
  },
  {
   "cell_type": "code",
   "execution_count": null,
   "metadata": {},
   "outputs": [],
   "source": []
  },
  {
   "cell_type": "code",
   "execution_count": null,
   "metadata": {},
   "outputs": [],
   "source": []
  }
 ],
 "metadata": {
  "kernelspec": {
   "display_name": "Python 3",
   "language": "python",
   "name": "python3"
  },
  "language_info": {
   "codemirror_mode": {
    "name": "ipython",
    "version": 3
   },
   "file_extension": ".py",
   "mimetype": "text/x-python",
   "name": "python",
   "nbconvert_exporter": "python",
   "pygments_lexer": "ipython3",
   "version": "3.7.1"
  }
 },
 "nbformat": 4,
 "nbformat_minor": 2
}
