{
 "cells": [
  {
   "cell_type": "code",
   "execution_count": 1,
   "metadata": {},
   "outputs": [],
   "source": [
    "from sklearn.metrics import roc_curve\n",
    "from sklearn.metrics import roc_auc_score\n",
    "from sklearn.metrics import confusion_matrix\n",
    "from sklearn.metrics import precision_recall_curve\n",
    "from sklearn.metrics import jaccard_similarity_score\n",
    "from sklearn.metrics import f1_score\n",
    "import sys\n",
    "sys.path.insert(0, '../lib/')\n",
    "# help_functions.py\n",
    "from help_functions import * \n",
    "\n",
    "# sys.path.insert(0, '../networks/')\n",
    "# from multihead_attention import multihead_attention_2d\n",
    "# from attention_model import unet_bot_att\n",
    "# extract_patches.py\n",
    "from extract_patches import recompone\n",
    "from extract_patches import recompone_overlap\n",
    "from extract_patches import paint_border\n",
    "from extract_patches import kill_border\n",
    "from extract_patches import pred_only_FOV\n",
    "from extract_patches import get_data_testing\n",
    "from extract_patches import get_data_testing_overlap\n",
    "# pre_processing.py\n",
    "from pre_processing import my_PreProc\n",
    "# from pixel_dcn import pixel_dcl\n",
    "\n",
    "import tensorflow as tf\n",
    "# tf.enable_eager_execution()\n",
    "from tensorflow import keras\n",
    "from tensorflow.keras import  layers\n"
   ]
  },
  {
   "cell_type": "code",
   "execution_count": 2,
   "metadata": {},
   "outputs": [
    {
     "data": {
      "text/plain": [
       "'1.12.0'"
      ]
     },
     "execution_count": 2,
     "metadata": {},
     "output_type": "execute_result"
    }
   ],
   "source": [
    "tf.__version__"
   ]
  },
  {
   "cell_type": "code",
   "execution_count": 86,
   "metadata": {},
   "outputs": [],
   "source": [
    "################################################################################\n",
    "# Basic operations building the network\n",
    "################################################################################\n",
    "def Pool3d(inputs, kernel_size, strides):\n",
    "\t\"\"\"Performs 3D max pooling.\"\"\"\n",
    "\n",
    "\treturn tf.layers.max_pooling3d(\n",
    "\t\t\tinputs=inputs,\n",
    "\t\t\tpool_size=kernel_size,\n",
    "\t\t\tstrides=strides,\n",
    "\t\t\tpadding='same')\n",
    "\n",
    "\n",
    "def Deconv3D(inputs, filters, kernel_size, strides, use_bias=False):\n",
    "\t\"\"\"Performs 3D deconvolution without bias and activation function.\"\"\"\n",
    "\n",
    "\treturn tf.layers.conv3d_transpose(\n",
    "\t\t\tinputs=inputs,\n",
    "\t\t\tfilters=filters,\n",
    "\t\t\tkernel_size=kernel_size,\n",
    "\t\t\tstrides=strides,\n",
    "\t\t\tpadding='same',\n",
    "\t\t\tuse_bias=use_bias,\n",
    "\t\t\tkernel_initializer=tf.truncated_normal_initializer())\n",
    "\n",
    "\n",
    "def Conv3D(inputs, filters, kernel_size, strides, use_bias=False):\n",
    "\t\"\"\"Performs 3D convolution without bias and activation function.\"\"\"\n",
    "\n",
    "\treturn tf.layers.conv3d(\n",
    "\t\t\tinputs=inputs,\n",
    "\t\t\tfilters=filters,\n",
    "\t\t\tkernel_size=kernel_size,\n",
    "\t\t\tstrides=strides,\n",
    "\t\t\tpadding='same',\n",
    "\t\t\tuse_bias=use_bias,\n",
    "\t\t\tkernel_initializer=tf.truncated_normal_initializer())\n",
    "\n",
    "\n",
    "def Dilated_Conv3D(inputs, filters, kernel_size, dilation_rate, use_bias=False):\n",
    "\t\"\"\"Performs 3D dilated convolution without bias and activation function.\"\"\"\n",
    "\n",
    "\treturn tf.layers.conv3d(\n",
    "\t\t\tinputs=inputs,\n",
    "\t\t\tfilters=filters,\n",
    "\t\t\tkernel_size=kernel_size,\n",
    "\t\t\tstrides=1,\n",
    "\t\t\tdilation_rate=dilation_rate,\n",
    "\t\t\tpadding='same',\n",
    "\t\t\tuse_bias=use_bias,\n",
    "\t\t\tkernel_initializer=tf.truncated_normal_initializer())\n",
    "\n",
    "\n",
    "def BN_ReLU(inputs, training):\n",
    "\t\"\"\"Performs a batch normalization followed by a ReLU6.\"\"\"\n",
    "\n",
    "\t# We set fused=True for a significant performance boost. See\n",
    "\t# https://www.tensorflow.org/performance/performance_guide#common_fused_ops\n",
    "\tinputs = tf.layers.batch_normalization(\n",
    "\t\t\t\tinputs=inputs,\n",
    "\t\t\t\taxis=-1,\n",
    "\t\t\t\tmomentum=0.997,\n",
    "\t\t\t\tepsilon=1e-5,\n",
    "\t\t\t\tcenter=True,\n",
    "\t\t\t\tscale=True,\n",
    "\t\t\t\ttraining=training, \n",
    "\t\t\t\tfused=True)\n",
    "\n",
    "\treturn tf.nn.relu6(input)\n",
    "\n",
    "def _residual_block(inputs, filters, training,\n",
    "\t\t\t\t\t\t\tprojection_shortcut, strides):\n",
    "    \"\"\"Standard building block for residual networks with BN before convolutions.\n",
    "    Args:\n",
    "        inputs: A tensor of size [batch, depth_in, height_in, width_in, channels].\n",
    "        filters: The number of filters for the convolutions.\n",
    "        training: A Boolean for whether the model is in training or inference\n",
    "            mode. Needed for batch normalization.\n",
    "        projection_shortcut: The function to use for projection shortcuts\n",
    "            (typically a 1x1 convolution when downsampling the input).\n",
    "        strides: The block's stride. If greater than 1, this block will ultimately\n",
    "            downsample the input.\n",
    "    Returns:\n",
    "        The output tensor of the block.\n",
    "    \"\"\"\n",
    "    print('RES_BLOCK')\n",
    "    shortcut = inputs\n",
    "#     inputs = BN_ReLU(inputs, training)\n",
    "\n",
    "    # The projection shortcut should come after the first batch norm and ReLU\n",
    "    # since it performs a 1x1 convolution.\n",
    "    if projection_shortcut is not None:\n",
    "        shortcut = projection_shortcut(inputs)\n",
    "        print('.........IN PROJECTION')\n",
    "\n",
    "    print('.........conv1')\n",
    "    inputs = Conv3D(\n",
    "                inputs=inputs,\n",
    "                filters=filters,\n",
    "                kernel_size=3,\n",
    "                strides=strides)\n",
    "\n",
    "#     inputs = BN_ReLU(inputs, training)\n",
    "    print('.........conv2')\n",
    "    inputs = Conv3D(\n",
    "                inputs=inputs,\n",
    "                filters=filters,\n",
    "                kernel_size=3,\n",
    "                strides=1)\n",
    "\n",
    "    print('inputs + shortcut')\n",
    "    print(inputs)\n",
    "    print(shortcut)\n",
    "    return inputs + shortcut\n"
   ]
  },
  {
   "cell_type": "code",
   "execution_count": 87,
   "metadata": {},
   "outputs": [],
   "source": [
    "num_classes = 2"
   ]
  },
  {
   "cell_type": "code",
   "execution_count": 88,
   "metadata": {},
   "outputs": [],
   "source": [
    "num_filters = 32\n",
    "network_depth = 3\n",
    "block_sizes =  [1] * network_depth\n",
    "block_strides = [1]+[2] *(network_depth-1)\n"
   ]
  },
  {
   "cell_type": "code",
   "execution_count": 89,
   "metadata": {},
   "outputs": [],
   "source": [
    "inp = tf.Variable(tf.random.uniform((64,16,16,16,128)))"
   ]
  },
  {
   "cell_type": "code",
   "execution_count": 90,
   "metadata": {},
   "outputs": [],
   "source": [
    "def _encoding_block_layer(name,block_fn,inputs, filters,training,strides,blocks):\n",
    "    \"\"\"Creates one layer of encoding blocks for the model.\n",
    "    Args:\n",
    "        inputs: A tensor of size [batch, depth_in, height_in, width_in, channels].\n",
    "        filters: The number of filters for the first convolution of the layer.\n",
    "        block_fn: The block to use within the model.\n",
    "        blocks: The number of blocks contained in the layer.\n",
    "        strides: The stride to use for the first convolution of the layer. If\n",
    "            greater than 1, this layer will ultimately downsample the input.\n",
    "        training: Either True or False, whether we are currently training the\n",
    "            model. Needed for batch norm.\n",
    "        name: A string name for the tensor output of the block layer.\n",
    "    Returns:\n",
    "        The output tensor of the block layer.\n",
    "    \"\"\"\n",
    "    \n",
    "    def projection_shortcut(inputs):\n",
    "        print(filters, 1,strides)\n",
    "        return Conv3D(\n",
    "                inputs=inputs,\n",
    "                filters=filters,\n",
    "                kernel_size=1,\n",
    "                strides=strides)\n",
    "    \n",
    "    \n",
    "    # Only the first block per block_layer uses projection_shortcut and strides\n",
    "    inputs = block_fn(inputs, filters, True, None, strides)\n",
    "    \n",
    "    for _ in range(1, blocks):\n",
    "        inputs = block_fn(inputs, filters, training, None, 1)\n",
    "        print('loop', _)\n",
    "\n",
    "    return tf.identity(inputs, name)"
   ]
  },
  {
   "cell_type": "code",
   "execution_count": 91,
   "metadata": {
    "scrolled": false
   },
   "outputs": [
    {
     "name": "stdout",
     "output_type": "stream",
     "text": [
      "0 1 loop\n",
      "num_filtesr 32\n",
      "RES_BLOCK\n",
      ".........conv1\n",
      ".........conv2\n",
      "inputs + shortcut\n",
      "Tensor(\"conv3d_170/Conv3D:0\", shape=(64, 32, 32, 32, 32), dtype=float32)\n",
      "Tensor(\"initial_conv_19:0\", shape=(64, 32, 32, 32, 32), dtype=float32)\n",
      "(64, 32, 32, 32, 32)\n",
      "1 1 loop\n",
      "num_filtesr 64\n",
      "RES_BLOCK\n",
      ".........conv1\n",
      ".........conv2\n",
      "inputs + shortcut\n",
      "Tensor(\"conv3d_172/Conv3D:0\", shape=(64, 16, 16, 16, 64), dtype=float32)\n",
      "Tensor(\"encode_block_layer1_18:0\", shape=(64, 32, 32, 32, 32), dtype=float32)\n"
     ]
    },
    {
     "ename": "ValueError",
     "evalue": "Dimensions must be equal, but are 16 and 32 for 'add_60' (op: 'Add') with input shapes: [64,16,16,16,64], [64,32,32,32,32].",
     "output_type": "error",
     "traceback": [
      "\u001b[0;31m---------------------------------------------------------------------------\u001b[0m",
      "\u001b[0;31mInvalidArgumentError\u001b[0m                      Traceback (most recent call last)",
      "\u001b[0;32m/usr/local/lib/python3.5/dist-packages/tensorflow/python/framework/ops.py\u001b[0m in \u001b[0;36m_create_c_op\u001b[0;34m(graph, node_def, inputs, control_inputs)\u001b[0m\n\u001b[1;32m   1627\u001b[0m   \u001b[0;32mtry\u001b[0m\u001b[0;34m:\u001b[0m\u001b[0;34m\u001b[0m\u001b[0m\n\u001b[0;32m-> 1628\u001b[0;31m     \u001b[0mc_op\u001b[0m \u001b[0;34m=\u001b[0m \u001b[0mc_api\u001b[0m\u001b[0;34m.\u001b[0m\u001b[0mTF_FinishOperation\u001b[0m\u001b[0;34m(\u001b[0m\u001b[0mop_desc\u001b[0m\u001b[0;34m)\u001b[0m\u001b[0;34m\u001b[0m\u001b[0m\n\u001b[0m\u001b[1;32m   1629\u001b[0m   \u001b[0;32mexcept\u001b[0m \u001b[0merrors\u001b[0m\u001b[0;34m.\u001b[0m\u001b[0mInvalidArgumentError\u001b[0m \u001b[0;32mas\u001b[0m \u001b[0me\u001b[0m\u001b[0;34m:\u001b[0m\u001b[0;34m\u001b[0m\u001b[0m\n",
      "\u001b[0;31mInvalidArgumentError\u001b[0m: Dimensions must be equal, but are 16 and 32 for 'add_60' (op: 'Add') with input shapes: [64,16,16,16,64], [64,32,32,32,32].",
      "\nDuring handling of the above exception, another exception occurred:\n",
      "\u001b[0;31mValueError\u001b[0m                                Traceback (most recent call last)",
      "\u001b[0;32m<ipython-input-91-3c3367d0a855>\u001b[0m in \u001b[0;36m<module>\u001b[0;34m\u001b[0m\n\u001b[1;32m     15\u001b[0m                                    \u001b[0mblock_fn\u001b[0m\u001b[0;34m=\u001b[0m\u001b[0m_residual_block\u001b[0m\u001b[0;34m,\u001b[0m\u001b[0minputs\u001b[0m\u001b[0;34m=\u001b[0m\u001b[0minputs\u001b[0m\u001b[0;34m,\u001b[0m\u001b[0;34m\u001b[0m\u001b[0m\n\u001b[1;32m     16\u001b[0m                                   \u001b[0mfilters\u001b[0m \u001b[0;34m=\u001b[0m \u001b[0mnum_filters\u001b[0m\u001b[0;34m,\u001b[0m \u001b[0mtraining\u001b[0m\u001b[0;34m=\u001b[0m\u001b[0;32mTrue\u001b[0m\u001b[0;34m,\u001b[0m\u001b[0;34m\u001b[0m\u001b[0m\n\u001b[0;32m---> 17\u001b[0;31m                                   strides=block_strides[i],blocks=num_blocks)\n\u001b[0m\u001b[1;32m     18\u001b[0m \u001b[0;31m#                 inputs=inputs, filters=num_filters,\u001b[0m\u001b[0;34m\u001b[0m\u001b[0;34m\u001b[0m\u001b[0m\n\u001b[1;32m     19\u001b[0m \u001b[0;31m#                 block_fn=_residual_block, blocks=num_blocks,\u001b[0m\u001b[0;34m\u001b[0m\u001b[0;34m\u001b[0m\u001b[0m\n",
      "\u001b[0;32m<ipython-input-90-bb595aa6d5c5>\u001b[0m in \u001b[0;36m_encoding_block_layer\u001b[0;34m(name, block_fn, inputs, filters, training, strides, blocks)\u001b[0m\n\u001b[1;32m     25\u001b[0m \u001b[0;34m\u001b[0m\u001b[0m\n\u001b[1;32m     26\u001b[0m     \u001b[0;31m# Only the first block per block_layer uses projection_shortcut and strides\u001b[0m\u001b[0;34m\u001b[0m\u001b[0;34m\u001b[0m\u001b[0m\n\u001b[0;32m---> 27\u001b[0;31m     \u001b[0minputs\u001b[0m \u001b[0;34m=\u001b[0m \u001b[0mblock_fn\u001b[0m\u001b[0;34m(\u001b[0m\u001b[0minputs\u001b[0m\u001b[0;34m,\u001b[0m \u001b[0mfilters\u001b[0m\u001b[0;34m,\u001b[0m \u001b[0;32mTrue\u001b[0m\u001b[0;34m,\u001b[0m \u001b[0;32mNone\u001b[0m\u001b[0;34m,\u001b[0m \u001b[0mstrides\u001b[0m\u001b[0;34m)\u001b[0m\u001b[0;34m\u001b[0m\u001b[0m\n\u001b[0m\u001b[1;32m     28\u001b[0m \u001b[0;34m\u001b[0m\u001b[0m\n\u001b[1;32m     29\u001b[0m     \u001b[0;32mfor\u001b[0m \u001b[0m_\u001b[0m \u001b[0;32min\u001b[0m \u001b[0mrange\u001b[0m\u001b[0;34m(\u001b[0m\u001b[0;36m1\u001b[0m\u001b[0;34m,\u001b[0m \u001b[0mblocks\u001b[0m\u001b[0;34m)\u001b[0m\u001b[0;34m:\u001b[0m\u001b[0;34m\u001b[0m\u001b[0m\n",
      "\u001b[0;32m<ipython-input-86-a72a3adbd677>\u001b[0m in \u001b[0;36m_residual_block\u001b[0;34m(inputs, filters, training, projection_shortcut, strides)\u001b[0m\n\u001b[1;32m    112\u001b[0m     \u001b[0mprint\u001b[0m\u001b[0;34m(\u001b[0m\u001b[0minputs\u001b[0m\u001b[0;34m)\u001b[0m\u001b[0;34m\u001b[0m\u001b[0m\n\u001b[1;32m    113\u001b[0m     \u001b[0mprint\u001b[0m\u001b[0;34m(\u001b[0m\u001b[0mshortcut\u001b[0m\u001b[0;34m)\u001b[0m\u001b[0;34m\u001b[0m\u001b[0m\n\u001b[0;32m--> 114\u001b[0;31m     \u001b[0;32mreturn\u001b[0m \u001b[0minputs\u001b[0m \u001b[0;34m+\u001b[0m \u001b[0mshortcut\u001b[0m\u001b[0;34m\u001b[0m\u001b[0m\n\u001b[0m",
      "\u001b[0;32m/usr/local/lib/python3.5/dist-packages/tensorflow/python/ops/math_ops.py\u001b[0m in \u001b[0;36mbinary_op_wrapper\u001b[0;34m(x, y)\u001b[0m\n\u001b[1;32m    864\u001b[0m     \u001b[0;32mwith\u001b[0m \u001b[0mops\u001b[0m\u001b[0;34m.\u001b[0m\u001b[0mname_scope\u001b[0m\u001b[0;34m(\u001b[0m\u001b[0;32mNone\u001b[0m\u001b[0;34m,\u001b[0m \u001b[0mop_name\u001b[0m\u001b[0;34m,\u001b[0m \u001b[0;34m[\u001b[0m\u001b[0mx\u001b[0m\u001b[0;34m,\u001b[0m \u001b[0my\u001b[0m\u001b[0;34m]\u001b[0m\u001b[0;34m)\u001b[0m \u001b[0;32mas\u001b[0m \u001b[0mname\u001b[0m\u001b[0;34m:\u001b[0m\u001b[0;34m\u001b[0m\u001b[0m\n\u001b[1;32m    865\u001b[0m       \u001b[0;32mif\u001b[0m \u001b[0misinstance\u001b[0m\u001b[0;34m(\u001b[0m\u001b[0mx\u001b[0m\u001b[0;34m,\u001b[0m \u001b[0mops\u001b[0m\u001b[0;34m.\u001b[0m\u001b[0mTensor\u001b[0m\u001b[0;34m)\u001b[0m \u001b[0;32mand\u001b[0m \u001b[0misinstance\u001b[0m\u001b[0;34m(\u001b[0m\u001b[0my\u001b[0m\u001b[0;34m,\u001b[0m \u001b[0mops\u001b[0m\u001b[0;34m.\u001b[0m\u001b[0mTensor\u001b[0m\u001b[0;34m)\u001b[0m\u001b[0;34m:\u001b[0m\u001b[0;34m\u001b[0m\u001b[0m\n\u001b[0;32m--> 866\u001b[0;31m         \u001b[0;32mreturn\u001b[0m \u001b[0mfunc\u001b[0m\u001b[0;34m(\u001b[0m\u001b[0mx\u001b[0m\u001b[0;34m,\u001b[0m \u001b[0my\u001b[0m\u001b[0;34m,\u001b[0m \u001b[0mname\u001b[0m\u001b[0;34m=\u001b[0m\u001b[0mname\u001b[0m\u001b[0;34m)\u001b[0m\u001b[0;34m\u001b[0m\u001b[0m\n\u001b[0m\u001b[1;32m    867\u001b[0m       \u001b[0;32melif\u001b[0m \u001b[0;32mnot\u001b[0m \u001b[0misinstance\u001b[0m\u001b[0;34m(\u001b[0m\u001b[0my\u001b[0m\u001b[0;34m,\u001b[0m \u001b[0msparse_tensor\u001b[0m\u001b[0;34m.\u001b[0m\u001b[0mSparseTensor\u001b[0m\u001b[0;34m)\u001b[0m\u001b[0;34m:\u001b[0m\u001b[0;34m\u001b[0m\u001b[0m\n\u001b[1;32m    868\u001b[0m         \u001b[0;32mtry\u001b[0m\u001b[0;34m:\u001b[0m\u001b[0;34m\u001b[0m\u001b[0m\n",
      "\u001b[0;32m/usr/local/lib/python3.5/dist-packages/tensorflow/python/ops/gen_math_ops.py\u001b[0m in \u001b[0;36madd\u001b[0;34m(x, y, name)\u001b[0m\n\u001b[1;32m    299\u001b[0m   \u001b[0;32mif\u001b[0m \u001b[0m_ctx\u001b[0m \u001b[0;32mis\u001b[0m \u001b[0;32mNone\u001b[0m \u001b[0;32mor\u001b[0m \u001b[0;32mnot\u001b[0m \u001b[0m_ctx\u001b[0m\u001b[0;34m.\u001b[0m\u001b[0m_eager_context\u001b[0m\u001b[0;34m.\u001b[0m\u001b[0mis_eager\u001b[0m\u001b[0;34m:\u001b[0m\u001b[0;34m\u001b[0m\u001b[0m\n\u001b[1;32m    300\u001b[0m     _, _, _op = _op_def_lib._apply_op_helper(\n\u001b[0;32m--> 301\u001b[0;31m         \"Add\", x=x, y=y, name=name)\n\u001b[0m\u001b[1;32m    302\u001b[0m     \u001b[0m_result\u001b[0m \u001b[0;34m=\u001b[0m \u001b[0m_op\u001b[0m\u001b[0;34m.\u001b[0m\u001b[0moutputs\u001b[0m\u001b[0;34m[\u001b[0m\u001b[0;34m:\u001b[0m\u001b[0;34m]\u001b[0m\u001b[0;34m\u001b[0m\u001b[0m\n\u001b[1;32m    303\u001b[0m     \u001b[0m_inputs_flat\u001b[0m \u001b[0;34m=\u001b[0m \u001b[0m_op\u001b[0m\u001b[0;34m.\u001b[0m\u001b[0minputs\u001b[0m\u001b[0;34m\u001b[0m\u001b[0m\n",
      "\u001b[0;32m/usr/local/lib/python3.5/dist-packages/tensorflow/python/framework/op_def_library.py\u001b[0m in \u001b[0;36m_apply_op_helper\u001b[0;34m(self, op_type_name, name, **keywords)\u001b[0m\n\u001b[1;32m    785\u001b[0m         op = g.create_op(op_type_name, inputs, output_types, name=scope,\n\u001b[1;32m    786\u001b[0m                          \u001b[0minput_types\u001b[0m\u001b[0;34m=\u001b[0m\u001b[0minput_types\u001b[0m\u001b[0;34m,\u001b[0m \u001b[0mattrs\u001b[0m\u001b[0;34m=\u001b[0m\u001b[0mattr_protos\u001b[0m\u001b[0;34m,\u001b[0m\u001b[0;34m\u001b[0m\u001b[0m\n\u001b[0;32m--> 787\u001b[0;31m                          op_def=op_def)\n\u001b[0m\u001b[1;32m    788\u001b[0m       \u001b[0;32mreturn\u001b[0m \u001b[0moutput_structure\u001b[0m\u001b[0;34m,\u001b[0m \u001b[0mop_def\u001b[0m\u001b[0;34m.\u001b[0m\u001b[0mis_stateful\u001b[0m\u001b[0;34m,\u001b[0m \u001b[0mop\u001b[0m\u001b[0;34m\u001b[0m\u001b[0m\n\u001b[1;32m    789\u001b[0m \u001b[0;34m\u001b[0m\u001b[0m\n",
      "\u001b[0;32m/usr/local/lib/python3.5/dist-packages/tensorflow/python/util/deprecation.py\u001b[0m in \u001b[0;36mnew_func\u001b[0;34m(*args, **kwargs)\u001b[0m\n\u001b[1;32m    486\u001b[0m                 \u001b[0;34m'in a future version'\u001b[0m \u001b[0;32mif\u001b[0m \u001b[0mdate\u001b[0m \u001b[0;32mis\u001b[0m \u001b[0;32mNone\u001b[0m \u001b[0;32melse\u001b[0m \u001b[0;34m(\u001b[0m\u001b[0;34m'after %s'\u001b[0m \u001b[0;34m%\u001b[0m \u001b[0mdate\u001b[0m\u001b[0;34m)\u001b[0m\u001b[0;34m,\u001b[0m\u001b[0;34m\u001b[0m\u001b[0m\n\u001b[1;32m    487\u001b[0m                 instructions)\n\u001b[0;32m--> 488\u001b[0;31m       \u001b[0;32mreturn\u001b[0m \u001b[0mfunc\u001b[0m\u001b[0;34m(\u001b[0m\u001b[0;34m*\u001b[0m\u001b[0margs\u001b[0m\u001b[0;34m,\u001b[0m \u001b[0;34m**\u001b[0m\u001b[0mkwargs\u001b[0m\u001b[0;34m)\u001b[0m\u001b[0;34m\u001b[0m\u001b[0m\n\u001b[0m\u001b[1;32m    489\u001b[0m     return tf_decorator.make_decorator(func, new_func, 'deprecated',\n\u001b[1;32m    490\u001b[0m                                        _add_deprecated_arg_notice_to_docstring(\n",
      "\u001b[0;32m/usr/local/lib/python3.5/dist-packages/tensorflow/python/framework/ops.py\u001b[0m in \u001b[0;36mcreate_op\u001b[0;34m(***failed resolving arguments***)\u001b[0m\n\u001b[1;32m   3272\u001b[0m           \u001b[0minput_types\u001b[0m\u001b[0;34m=\u001b[0m\u001b[0minput_types\u001b[0m\u001b[0;34m,\u001b[0m\u001b[0;34m\u001b[0m\u001b[0m\n\u001b[1;32m   3273\u001b[0m           \u001b[0moriginal_op\u001b[0m\u001b[0;34m=\u001b[0m\u001b[0mself\u001b[0m\u001b[0;34m.\u001b[0m\u001b[0m_default_original_op\u001b[0m\u001b[0;34m,\u001b[0m\u001b[0;34m\u001b[0m\u001b[0m\n\u001b[0;32m-> 3274\u001b[0;31m           op_def=op_def)\n\u001b[0m\u001b[1;32m   3275\u001b[0m       \u001b[0mself\u001b[0m\u001b[0;34m.\u001b[0m\u001b[0m_create_op_helper\u001b[0m\u001b[0;34m(\u001b[0m\u001b[0mret\u001b[0m\u001b[0;34m,\u001b[0m \u001b[0mcompute_device\u001b[0m\u001b[0;34m=\u001b[0m\u001b[0mcompute_device\u001b[0m\u001b[0;34m)\u001b[0m\u001b[0;34m\u001b[0m\u001b[0m\n\u001b[1;32m   3276\u001b[0m     \u001b[0;32mreturn\u001b[0m \u001b[0mret\u001b[0m\u001b[0;34m\u001b[0m\u001b[0m\n",
      "\u001b[0;32m/usr/local/lib/python3.5/dist-packages/tensorflow/python/framework/ops.py\u001b[0m in \u001b[0;36m__init__\u001b[0;34m(self, node_def, g, inputs, output_types, control_inputs, input_types, original_op, op_def)\u001b[0m\n\u001b[1;32m   1790\u001b[0m           op_def, inputs, node_def.attr)\n\u001b[1;32m   1791\u001b[0m       self._c_op = _create_c_op(self._graph, node_def, grouped_inputs,\n\u001b[0;32m-> 1792\u001b[0;31m                                 control_input_ops)\n\u001b[0m\u001b[1;32m   1793\u001b[0m \u001b[0;34m\u001b[0m\u001b[0m\n\u001b[1;32m   1794\u001b[0m     \u001b[0;31m# Initialize self._outputs.\u001b[0m\u001b[0;34m\u001b[0m\u001b[0;34m\u001b[0m\u001b[0m\n",
      "\u001b[0;32m/usr/local/lib/python3.5/dist-packages/tensorflow/python/framework/ops.py\u001b[0m in \u001b[0;36m_create_c_op\u001b[0;34m(graph, node_def, inputs, control_inputs)\u001b[0m\n\u001b[1;32m   1629\u001b[0m   \u001b[0;32mexcept\u001b[0m \u001b[0merrors\u001b[0m\u001b[0;34m.\u001b[0m\u001b[0mInvalidArgumentError\u001b[0m \u001b[0;32mas\u001b[0m \u001b[0me\u001b[0m\u001b[0;34m:\u001b[0m\u001b[0;34m\u001b[0m\u001b[0m\n\u001b[1;32m   1630\u001b[0m     \u001b[0;31m# Convert to ValueError for backwards compatibility.\u001b[0m\u001b[0;34m\u001b[0m\u001b[0;34m\u001b[0m\u001b[0m\n\u001b[0;32m-> 1631\u001b[0;31m     \u001b[0;32mraise\u001b[0m \u001b[0mValueError\u001b[0m\u001b[0;34m(\u001b[0m\u001b[0mstr\u001b[0m\u001b[0;34m(\u001b[0m\u001b[0me\u001b[0m\u001b[0;34m)\u001b[0m\u001b[0;34m)\u001b[0m\u001b[0;34m\u001b[0m\u001b[0m\n\u001b[0m\u001b[1;32m   1632\u001b[0m \u001b[0;34m\u001b[0m\u001b[0m\n\u001b[1;32m   1633\u001b[0m   \u001b[0;32mreturn\u001b[0m \u001b[0mc_op\u001b[0m\u001b[0;34m\u001b[0m\u001b[0m\n",
      "\u001b[0;31mValueError\u001b[0m: Dimensions must be equal, but are 16 and 32 for 'add_60' (op: 'Add') with input shapes: [64,16,16,16,64], [64,32,32,32,32]."
     ]
    }
   ],
   "source": [
    "inp = tf.Variable(tf.random.uniform((64,32,32,32,2)))\n",
    "inputs = Conv3D(\n",
    "\t\t\t\t\tinputs=inp,\n",
    "\t\t\t\t\tfilters=32,\n",
    "\t\t\t\t\tkernel_size=3,\n",
    "\t\t\t\t\tstrides=1)\n",
    "inputs = tf.identity(inputs, 'initial_conv')\n",
    "\n",
    "skip_inputs = []\n",
    "for i, num_blocks in enumerate(block_sizes):\n",
    "    print(i, num_blocks, 'loop')\n",
    "    num_filters = 32 * (2**i)\n",
    "    print('num_filtesr', num_filters)\n",
    "    inputs = _encoding_block_layer(name='encode_block_layer{}'.format(i+1),\n",
    "                                   block_fn=_residual_block,inputs=inputs,\n",
    "                                  filters = num_filters, training=True,\n",
    "                                  strides=block_strides[i],blocks=num_blocks)\n",
    "#                 inputs=inputs, filters=num_filters,\n",
    "#                 block_fn=_residual_block, blocks=num_blocks,\n",
    "#                 strides=block_strides[i], training=True,\n",
    "#                 name='encode_block_layer{}'.format(i+1))\n",
    "    skip_inputs.append(inputs)\n",
    "    print(inputs.shape)\n",
    "print(len(skip_inputs))\n",
    "print(skip_inputs)\n",
    "        \n",
    "        \n",
    "        \n",
    "bld = Network(inp)\n",
    "init_op = tf.initialize_all_variables()\n",
    "with tf.Session() as sess:\n",
    "    init_op.run()\n",
    "    print(inputs.dtype)\n",
    "    sess.run(init_op)\n",
    "    print(bld.block_sizes)\n",
    "#     bld.summary()\n",
    "#     print(sess.run(inp))"
   ]
  },
  {
   "cell_type": "code",
   "execution_count": 83,
   "metadata": {},
   "outputs": [
    {
     "data": {
      "text/plain": [
       "512"
      ]
     },
     "execution_count": 83,
     "metadata": {},
     "output_type": "execute_result"
    }
   ],
   "source": [
    "num_filters * (2**(len([1,1,1])-1))"
   ]
  },
  {
   "cell_type": "code",
   "execution_count": 85,
   "metadata": {},
   "outputs": [
    {
     "name": "stdout",
     "output_type": "stream",
     "text": [
      "1 1\n",
      "0 1\n"
     ]
    }
   ],
   "source": [
    "for i, num_blocks in reversed(list(enumerate([1,1,1][1:]))):\n",
    "\tprint(i, num_blocks)"
   ]
  },
  {
   "cell_type": "code",
   "execution_count": null,
   "metadata": {},
   "outputs": [],
   "source": []
  },
  {
   "cell_type": "code",
   "execution_count": null,
   "metadata": {},
   "outputs": [],
   "source": []
  },
  {
   "cell_type": "code",
   "execution_count": null,
   "metadata": {},
   "outputs": [],
   "source": []
  },
  {
   "cell_type": "code",
   "execution_count": null,
   "metadata": {},
   "outputs": [],
   "source": []
  },
  {
   "cell_type": "code",
   "execution_count": null,
   "metadata": {},
   "outputs": [],
   "source": []
  },
  {
   "cell_type": "code",
   "execution_count": null,
   "metadata": {},
   "outputs": [],
   "source": []
  },
  {
   "cell_type": "code",
   "execution_count": null,
   "metadata": {},
   "outputs": [],
   "source": []
  },
  {
   "cell_type": "code",
   "execution_count": null,
   "metadata": {},
   "outputs": [],
   "source": []
  },
  {
   "cell_type": "code",
   "execution_count": null,
   "metadata": {},
   "outputs": [],
   "source": []
  },
  {
   "cell_type": "code",
   "execution_count": null,
   "metadata": {},
   "outputs": [],
   "source": []
  },
  {
   "cell_type": "code",
   "execution_count": null,
   "metadata": {},
   "outputs": [],
   "source": []
  },
  {
   "cell_type": "code",
   "execution_count": null,
   "metadata": {},
   "outputs": [],
   "source": []
  },
  {
   "cell_type": "code",
   "execution_count": null,
   "metadata": {},
   "outputs": [],
   "source": []
  },
  {
   "cell_type": "code",
   "execution_count": null,
   "metadata": {},
   "outputs": [],
   "source": []
  },
  {
   "cell_type": "code",
   "execution_count": null,
   "metadata": {},
   "outputs": [],
   "source": []
  },
  {
   "cell_type": "code",
   "execution_count": null,
   "metadata": {},
   "outputs": [],
   "source": []
  },
  {
   "cell_type": "code",
   "execution_count": 4,
   "metadata": {},
   "outputs": [
    {
     "name": "stdout",
     "output_type": "stream",
     "text": [
      "\n",
      "the side H is not compatible with the selected stride of 5\n",
      "img_h 584, patch_h 48, stride_h 5\n",
      "(img_h - patch_h) MOD stride_h: 1\n",
      "So the H dim will be padded with additional 4 pixels\n",
      "the side W is not compatible with the selected stride of 5\n",
      "img_w 565, patch_w 48, stride_w 5\n",
      "(img_w - patch_w) MOD stride_w: 2\n",
      "So the W dim will be padded with additional 3 pixels\n",
      "new full images shape: \n",
      "(20, 1, 588, 568)\n",
      "\n",
      "test images shape:\n",
      "(20, 1, 588, 568)\n",
      "\n",
      "test mask shape:\n",
      "(20, 1, 584, 565)\n",
      "test images range (min-max): 0.0 - 1.0\n",
      "test masks are within 0-1\n",
      "\n",
      "Number of patches on h : 109\n",
      "Number of patches on w : 105\n",
      "number of patches per image: 11445, totally for this dataset: 228900\n",
      "\n",
      "test PATCHES images shape:\n",
      "(228900, 1, 48, 48)\n",
      "test PATCHES images range (min-max): 0.0 - 1.0\n"
     ]
    }
   ],
   "source": [
    "# [data paths]\n",
    "path_local =  '../DRIVE_datasets_training_testing/'\n",
    "train_imgs_original = 'DRIVE_dataset_imgs_train.hdf5'\n",
    "train_groundTruth = 'DRIVE_dataset_groundTruth_train.hdf5'\n",
    "train_border_masks = 'DRIVE_dataset_borderMasks_train.hdf5'\n",
    "test_imgs_original = 'DRIVE_dataset_imgs_test.hdf5'\n",
    "test_groundTruth = 'DRIVE_dataset_groundTruth_test.hdf5'\n",
    "test_border_masks = 'DRIVE_dataset_borderMasks_test.hdf5'\n",
    "\n",
    "\n",
    "\n",
    "#========= CONFIG FILE TO READ FROM =======\n",
    "# config = configparser.RawConfigParser()\n",
    "# config.read('../configuration.txt')\n",
    "# #===========================================\n",
    "# #run the training on invariant or local\n",
    "# path_data = config.get('data paths', 'path_local')\n",
    "\n",
    "#original test images (for FOV selection)\n",
    "DRIVE_test_imgs_original = path_local + test_imgs_original\n",
    "\n",
    "test_imgs_orig = load_hdf5(DRIVE_test_imgs_original)\n",
    "full_img_height = test_imgs_orig.shape[2]\n",
    "full_img_width = test_imgs_orig.shape[3]\n",
    "#the border masks provided by the DRIVE\n",
    "DRIVE_test_border_masks = path_local + test_border_masks\n",
    "test_border_masks = load_hdf5(DRIVE_test_border_masks)\n",
    "# dimension of the patches\n",
    "patch_height = 48\n",
    "patch_width = 48\n",
    "#the stride in case output with average\n",
    "stride_height = 5\n",
    "stride_width = 5\n",
    "assert (stride_height < patch_height and stride_width < patch_width)\n",
    "#model name\n",
    "name_experiment = 'test'\n",
    "path_experiment = '../' +name_experiment +'/'\n",
    "#N full images to be predicted\n",
    "Imgs_to_test = 20\n",
    "#Grouping of the predicted images\n",
    "N_visual = 1\n",
    "#====== average mode ===========\n",
    "average_mode = True\n",
    "\n",
    "\n",
    "patches_imgs_test = None\n",
    "new_height = None\n",
    "new_width = None\n",
    "masks_test  = None\n",
    "patches_masks_test = None\n",
    "if average_mode == True:\n",
    "    patches_imgs_test, new_height, new_width, masks_test = get_data_testing_overlap(\n",
    "        DRIVE_test_imgs_original = DRIVE_test_imgs_original,  #original\n",
    "        DRIVE_test_groudTruth = path_local + test_groundTruth, #masks\n",
    "        Imgs_to_test = Imgs_to_test,\n",
    "        patch_height = patch_height,\n",
    "        patch_width = patch_width,\n",
    "        stride_height = stride_height,\n",
    "        stride_width = stride_width\n",
    "    )\n",
    "    #masks_test = np.rollaxis(masks_test, 1, 2)\n",
    "else:\n",
    "    patches_imgs_test, patches_masks_test = get_data_testing(\n",
    "        DRIVE_test_imgs_original = DRIVE_test_imgs_original,  #original\n",
    "        DRIVE_test_groudTruth = path_local +test_groundTruth,  #masks\n",
    "        Imgs_to_test = Imgs_to_test,\n",
    "        patch_height = patch_height,\n",
    "        patch_width = patch_width,\n",
    "    )"
   ]
  },
  {
   "cell_type": "code",
   "execution_count": 6,
   "metadata": {},
   "outputs": [],
   "source": [
    "model = tf.keras.models.model_from_json(open(path_experiment+name_experiment +'_architecture.json').read())"
   ]
  },
  {
   "cell_type": "code",
   "execution_count": 8,
   "metadata": {},
   "outputs": [],
   "source": [
    "model.load_weights(path_experiment+name_experiment + '_best_w.h5')"
   ]
  },
  {
   "cell_type": "code",
   "execution_count": 11,
   "metadata": {},
   "outputs": [
    {
     "name": "stdout",
     "output_type": "stream",
     "text": [
      "predicted images size  (228900, 2304, 2)\n"
     ]
    }
   ],
   "source": [
    "#Calculate the predictions\n",
    "predictions = model.predict(patches_imgs_test, batch_size=32, verbose=2)\n",
    "print('predicted images size ', predictions.shape)\n"
   ]
  },
  {
   "cell_type": "code",
   "execution_count": 13,
   "metadata": {},
   "outputs": [
    {
     "name": "stdout",
     "output_type": "stream",
     "text": [
      "N_patches_h: 109\n",
      "N_patches_w: 105\n",
      "N_patches_img: 11445\n",
      "According to the dimension inserted, there are 20 full images (of 588x568 each)\n",
      "(20, 1, 588, 568)\n",
      "Orig imgs shape: (20, 1, 584, 565)\n",
      "pred imgs shape: (20, 1, 584, 565)\n",
      "Gtruth imgs shape: (20, 1, 584, 565)\n",
      "\n",
      "\n",
      "========  Evaluate the results =======================\n",
      "Calculating results only inside the FOV:\n",
      "y scores pixels: 4538143 (radius 270: 270*270*3.14==228906), including background around retina: 6599200 (584*565==329960)\n",
      "y true pixels: 4538143 (radius 270: 270*270*3.14==228906), including background around retina: 6599200 (584*565==329960)\n",
      "\n",
      "Area under the ROC curve: 0.9739263288623758\n",
      "\n",
      "Area under Precision-Recall curve: 0.8857490907268858\n",
      "\n",
      "Confusion matrix:  Custom threshold (for positive) of 0.5\n",
      "[[3879435   81059]\n",
      " [ 143497  434152]]\n",
      "Global Accuracy: 0.9505180863626378\n",
      "Specificity: 0.9795331087485551\n",
      "Sensitivity: 0.7515844396856914\n",
      "Precision: 0.842668343649495\n",
      "\n",
      "Jaccard similarity score: 0.9505180863626378\n",
      "\n",
      "F1 score (F-measure): 0.794524458759585\n"
     ]
    },
    {
     "data": {
      "image/png": "[encoded data removed]",
      "text/plain": [
       "<Figure size 432x288 with 1 Axes>"
      ]
     },
     "metadata": {
      "needs_background": "light"
     },
     "output_type": "display_data"
    },
    {
     "data": {
      "image/png": "[encoded data removed]",
      "text/plain": [
       "<Figure size 432x288 with 1 Axes>"
      ]
     },
     "metadata": {
      "needs_background": "light"
     },
     "output_type": "display_data"
    }
   ],
   "source": [
    "pred_patches = pred_to_imgs(predictions, patch_height, patch_width, \"original\")\n",
    "    \n",
    "pred_imgs = None\n",
    "orig_imgs = None\n",
    "gtruth_masks = None\n",
    "if average_mode == True:\n",
    "    pred_imgs = recompone_overlap(pred_patches, new_height, new_width, stride_height, stride_width)# predictions\n",
    "    orig_imgs = my_PreProc(test_imgs_orig[0:pred_imgs.shape[0],:,:,:])    #originals\n",
    "    gtruth_masks = masks_test  #ground truth masks\n",
    "else:\n",
    "    pred_imgs = recompone(pred_patches,13,12)       # predictions\n",
    "    orig_imgs = recompone(patches_imgs_test,13,12)  # originals\n",
    "    gtruth_masks = recompone(patches_masks_test,13,12)  #masks\n",
    "# apply the DRIVE masks on the repdictions #set everything outside the FOV to zero!!\n",
    "kill_border(pred_imgs, test_border_masks)  #DRIVE MASK  #only for visualization\n",
    "## back to original dimensions\n",
    "orig_imgs = orig_imgs[:,:,0:full_img_height,0:full_img_width]\n",
    "pred_imgs = pred_imgs[:,:,0:full_img_height,0:full_img_width]\n",
    "gtruth_masks = gtruth_masks[:,:,0:full_img_height,0:full_img_width]\n",
    "print(\"Orig imgs shape: \" +str(orig_imgs.shape))\n",
    "print(\"pred imgs shape: \" +str(pred_imgs.shape))\n",
    "print(\"Gtruth imgs shape: \" +str(gtruth_masks.shape))\n",
    "visualize(group_images(orig_imgs,N_visual),path_experiment+\"all_originals\")#.show()\n",
    "visualize(group_images(pred_imgs,N_visual),path_experiment+\"all_predictions\")#.show()\n",
    "visualize(group_images(gtruth_masks,N_visual),path_experiment+\"all_groundTruths\")#.show()\n",
    "#visualize results comparing mask and prediction:\n",
    "assert (orig_imgs.shape[0]==pred_imgs.shape[0] and orig_imgs.shape[0]==gtruth_masks.shape[0])\n",
    "N_predicted = orig_imgs.shape[0]\n",
    "group = N_visual\n",
    "assert (N_predicted%group==0)\n",
    "for i in range(int(N_predicted/group)):\n",
    "    orig_stripe = group_images(orig_imgs[i*group:(i*group)+group,:,:,:],group)\n",
    "    masks_stripe = group_images(gtruth_masks[i*group:(i*group)+group,:,:,:],group)\n",
    "    pred_stripe = group_images(pred_imgs[i*group:(i*group)+group,:,:,:],group)\n",
    "    total_img = np.concatenate((orig_stripe,masks_stripe,pred_stripe),axis=0)\n",
    "    visualize(total_img,path_experiment+name_experiment +\"_Original_GroundTruth_Prediction\"+str(i))#.show()\n",
    "\n",
    "\n",
    "#====== Evaluate the results\n",
    "print(\"\\n\\n========  Evaluate the results =======================\")\n",
    "#predictions only inside the FOV\n",
    "y_scores, y_true = pred_only_FOV(pred_imgs,gtruth_masks, test_border_masks)  #returns data only inside the FOV\n",
    "print(\"Calculating results only inside the FOV:\")\n",
    "print(\"y scores pixels: \" +str(y_scores.shape[0]) +\" (radius 270: 270*270*3.14==228906), including background around retina: \" +str(pred_imgs.shape[0]*pred_imgs.shape[2]*pred_imgs.shape[3]) +\" (584*565==329960)\")\n",
    "print(\"y true pixels: \" +str(y_true.shape[0]) +\" (radius 270: 270*270*3.14==228906), including background around retina: \" +str(gtruth_masks.shape[2]*gtruth_masks.shape[3]*gtruth_masks.shape[0])+\" (584*565==329960)\")\n",
    "\n",
    "#Area under the ROC curve\n",
    "fpr, tpr, thresholds = roc_curve((y_true), y_scores)\n",
    "AUC_ROC = roc_auc_score(y_true, y_scores)\n",
    "# test_integral = np.trapz(tpr,fpr) #trapz is numpy integration\n",
    "print(\"\\nArea under the ROC curve: \" +str(AUC_ROC))\n",
    "roc_curve =plt.figure()\n",
    "plt.plot(fpr,tpr,'-',label='Area Under the Curve (AUC = %0.4f)' % AUC_ROC)\n",
    "plt.title('ROC curve')\n",
    "plt.xlabel(\"FPR (False Positive Rate)\")\n",
    "plt.ylabel(\"TPR (True Positive Rate)\")\n",
    "plt.legend(loc=\"lower right\")\n",
    "plt.savefig(path_experiment+\"ROC.png\")\n",
    "\n",
    "#Precision-recall curve\n",
    "precision, recall, thresholds = precision_recall_curve(y_true, y_scores)\n",
    "precision = np.fliplr([precision])[0]  #so the array is increasing (you won't get negative AUC)\n",
    "recall = np.fliplr([recall])[0]  #so the array is increasing (you won't get negative AUC)\n",
    "AUC_prec_rec = np.trapz(precision,recall)\n",
    "print(\"\\nArea under Precision-Recall curve: \" +str(AUC_prec_rec))\n",
    "prec_rec_curve = plt.figure()\n",
    "plt.plot(recall,precision,'-',label='Area Under the Curve (AUC = %0.4f)' % AUC_prec_rec)\n",
    "plt.title('Precision - Recall curve')\n",
    "plt.xlabel(\"Recall\")\n",
    "plt.ylabel(\"Precision\")\n",
    "plt.legend(loc=\"lower right\")\n",
    "plt.savefig(path_experiment+\"Precision_recall.png\")\n",
    "\n",
    "#Confusion matrix\n",
    "threshold_confusion = 0.5\n",
    "print(\"\\nConfusion matrix:  Custom threshold (for positive) of \" +str(threshold_confusion))\n",
    "y_pred = np.empty((y_scores.shape[0]))\n",
    "for i in range(y_scores.shape[0]):\n",
    "    if y_scores[i]>=threshold_confusion:\n",
    "        y_pred[i]=1\n",
    "    else:\n",
    "        y_pred[i]=0\n",
    "confusion = confusion_matrix(y_true, y_pred)\n",
    "print(confusion)\n",
    "accuracy = 0\n",
    "if float(np.sum(confusion))!=0:\n",
    "    accuracy = float(confusion[0,0]+confusion[1,1])/float(np.sum(confusion))\n",
    "print(\"Global Accuracy: \" +str(accuracy))\n",
    "specificity = 0\n",
    "if float(confusion[0,0]+confusion[0,1])!=0:\n",
    "    specificity = float(confusion[0,0])/float(confusion[0,0]+confusion[0,1])\n",
    "print(\"Specificity: \" +str(specificity))\n",
    "sensitivity = 0\n",
    "if float(confusion[1,1]+confusion[1,0])!=0:\n",
    "    sensitivity = float(confusion[1,1])/float(confusion[1,1]+confusion[1,0])\n",
    "print(\"Sensitivity: \" +str(sensitivity))\n",
    "precision = 0\n",
    "if float(confusion[1,1]+confusion[0,1])!=0:\n",
    "    precision = float(confusion[1,1])/float(confusion[1,1]+confusion[0,1])\n",
    "print(\"Precision: \" +str(precision))\n",
    "\n",
    "#Jaccard similarity index\n",
    "jaccard_index = jaccard_similarity_score(y_true, y_pred, normalize=True)\n",
    "print(\"\\nJaccard similarity score: \" +str(jaccard_index))\n",
    "\n",
    "#F1 score\n",
    "F1_score = f1_score(y_true, y_pred, labels=None, average='binary', sample_weight=None)\n",
    "print(\"\\nF1 score (F-measure): \" +str(F1_score))\n",
    "\n",
    "#Save the results\n",
    "file_perf = open(path_experiment+'performances.txt', 'w')\n",
    "file_perf.write(\"Area under the ROC curve: \"+str(AUC_ROC)\n",
    "                + \"\\nArea under Precision-Recall curve: \" +str(AUC_prec_rec)\n",
    "                + \"\\nJaccard similarity score: \" +str(jaccard_index)\n",
    "                + \"\\nF1 score (F-measure): \" +str(F1_score)\n",
    "                +\"\\n\\nConfusion matrix:\"\n",
    "                +str(confusion)\n",
    "                +\"\\nACCURACY: \" +str(accuracy)\n",
    "                +\"\\nSENSITIVITY: \" +str(sensitivity)\n",
    "                +\"\\nSPECIFICITY: \" +str(specificity)\n",
    "                +\"\\nPRECISION: \" +str(precision)\n",
    "                )\n",
    "file_perf.close()"
   ]
  },
  {
   "cell_type": "code",
   "execution_count": null,
   "metadata": {},
   "outputs": [],
   "source": []
  },
  {
   "cell_type": "code",
   "execution_count": null,
   "metadata": {},
   "outputs": [],
   "source": []
  },
  {
   "cell_type": "code",
   "execution_count": null,
   "metadata": {},
   "outputs": [],
   "source": []
  },
  {
   "cell_type": "code",
   "execution_count": null,
   "metadata": {},
   "outputs": [],
   "source": []
  },
  {
   "cell_type": "code",
   "execution_count": null,
   "metadata": {},
   "outputs": [],
   "source": []
  },
  {
   "cell_type": "code",
   "execution_count": null,
   "metadata": {},
   "outputs": [],
   "source": []
  },
  {
   "cell_type": "code",
   "execution_count": null,
   "metadata": {},
   "outputs": [],
   "source": []
  },
  {
   "cell_type": "code",
   "execution_count": null,
   "metadata": {},
   "outputs": [],
   "source": []
  },
  {
   "cell_type": "code",
   "execution_count": null,
   "metadata": {},
   "outputs": [],
   "source": []
  },
  {
   "cell_type": "code",
   "execution_count": null,
   "metadata": {},
   "outputs": [],
   "source": []
  },
  {
   "cell_type": "code",
   "execution_count": null,
   "metadata": {},
   "outputs": [],
   "source": []
  },
  {
   "cell_type": "code",
   "execution_count": null,
   "metadata": {},
   "outputs": [],
   "source": []
  },
  {
   "cell_type": "code",
   "execution_count": null,
   "metadata": {},
   "outputs": [],
   "source": []
  },
  {
   "cell_type": "code",
   "execution_count": null,
   "metadata": {},
   "outputs": [],
   "source": []
  },
  {
   "cell_type": "code",
   "execution_count": null,
   "metadata": {},
   "outputs": [],
   "source": []
  },
  {
   "cell_type": "code",
   "execution_count": null,
   "metadata": {},
   "outputs": [],
   "source": []
  },
  {
   "cell_type": "code",
   "execution_count": null,
   "metadata": {},
   "outputs": [],
   "source": []
  },
  {
   "cell_type": "code",
   "execution_count": null,
   "metadata": {},
   "outputs": [],
   "source": []
  },
  {
   "cell_type": "code",
   "execution_count": null,
   "metadata": {},
   "outputs": [],
   "source": []
  },
  {
   "cell_type": "code",
   "execution_count": null,
   "metadata": {},
   "outputs": [],
   "source": []
  },
  {
   "cell_type": "code",
   "execution_count": null,
   "metadata": {},
   "outputs": [],
   "source": []
  }
 ],
 "metadata": {
  "kernelspec": {
   "display_name": "Python 3",
   "language": "python",
   "name": "python3"
  },
  "language_info": {
   "codemirror_mode": {
    "name": "ipython",
    "version": 3
   },
   "file_extension": ".py",
   "mimetype": "text/x-python",
   "name": "python",
   "nbconvert_exporter": "python",
   "pygments_lexer": "ipython3",
   "version": "3.5.2"
  }
 },
 "nbformat": 4,
 "nbformat_minor": 2
}
